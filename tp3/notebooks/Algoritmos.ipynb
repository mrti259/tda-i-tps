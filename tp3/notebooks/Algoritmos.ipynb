{
 "cells": [
  {
   "cell_type": "code",
   "execution_count": 1,
   "id": "4d463177-a8ee-41d5-950d-db7f38b94cd1",
   "metadata": {},
   "outputs": [
    {
     "name": "stdout",
     "output_type": "stream",
     "text": [
      "----- JUGADORES -----\n",
      "['Soule', 'Burrito Ortega', 'Luka Romero', 'Casco', 'Changuito Zeballos', 'Palermo', 'Dibu', 'Riquelme', 'Pity Martinez', 'Buendia', 'Mauro Zarate', 'Armani', 'Wachoffisde Abila', 'Cuti Romero', 'El fantasma de la B', 'Colidio', 'Tucu Pereyra', 'Chiquito Romero', 'Buonanotte', 'Di Maria', 'Dybala', 'Beltran', 'Colo Barco', \"Barcon't\", 'Pezzella', 'Langoni']\n",
      "----- DESEADOS -----\n",
      "['Colidio', \"Barcon't\", 'Palermo', 'Pity Martinez']\n",
      "['Soule', 'Dibu', 'Chiquito Romero']\n",
      "['Beltran', 'Buonanotte', 'Mauro Zarate']\n",
      "['Armani', 'Pity Martinez', 'Beltran', 'Luka Romero']\n",
      "['Pezzella', 'Dibu', 'Buendia', 'Tucu Pereyra']\n",
      "['Riquelme', 'Langoni', 'Wachoffisde Abila']\n",
      "['Casco', 'Cuti Romero', 'Dybala']\n",
      "['Pezzella', 'Palermo', 'Colo Barco', 'El fantasma de la B']\n",
      "[\"Barcon't\", 'Luka Romero', 'Colo Barco', 'Dybala']\n",
      "['Di Maria', 'Burrito Ortega', 'Changuito Zeballos']\n"
     ]
    }
   ],
   "source": [
    "from tp3.archivos import leer_archivo\n",
    "jugadores, deseos_prensa = leer_archivo(\"..\\\\examples\\\\10_varios.txt\")\n",
    "print(\"----- JUGADORES -----\")\n",
    "print(f\"{jugadores}\")\n",
    "print(\"----- DESEADOS -----\")\n",
    "for deseo in deseos_prensa:\n",
    "    print(f\"{deseo}\")"
   ]
  },
  {
   "cell_type": "code",
   "execution_count": 2,
   "id": "6aad8cb8-e9c0-4c65-bf14-343fd28e5056",
   "metadata": {},
   "outputs": [
    {
     "name": "stdout",
     "output_type": "stream",
     "text": [
      "---- SOLUCION ----\n",
      "['Langoni', 'Beltran', 'Dybala', 'Di Maria', 'Dibu', 'Palermo']  ( 6 )\n",
      "---- ES VALIDA ----\n",
      "True\n"
     ]
    }
   ],
   "source": [
    "def es_hitting_set(solucion, deseos_prensa):\n",
    "    for deseo in deseos_prensa:\n",
    "        es_deseado = False\n",
    "        for jugador in solucion:\n",
    "            if jugador in deseo:\n",
    "                es_deseado = True\n",
    "                break\n",
    "        if not es_deseado:\n",
    "            return False                \n",
    "    return True\n",
    "\n",
    "def hitting_set_backtracking(jugadores, deseos_prensa):\n",
    "    solucion = []\n",
    "    return _hitting_set_backtracking_recursivo(jugadores, deseos_prensa, solucion)\n",
    "\n",
    "def _hitting_set_backtracking_recursivo(jugadores, deseos_prensa, solucion):\n",
    "    if (len(jugadores) == 0) or es_hitting_set(solucion, deseos_prensa):\n",
    "        return solucion\n",
    "            \n",
    "    solucion1 = _hitting_set_backtracking_recursivo(jugadores[1:], deseos_prensa, [jugadores[0], *solucion])\n",
    "    solucion2 = _hitting_set_backtracking_recursivo(jugadores[1:], deseos_prensa, [*solucion])\n",
    "\n",
    "    if es_hitting_set(solucion1, deseos_prensa):\n",
    "        if es_hitting_set(solucion2, deseos_prensa):\n",
    "            if len(solucion1) < len(solucion2):\n",
    "                return solucion1\n",
    "            else:\n",
    "                return solucion2\n",
    "        return solucion1\n",
    "    elif es_hitting_set(solucion2, deseos_prensa):\n",
    "        return solucion2\n",
    "    else:\n",
    "        return []\n",
    "\n",
    "solucion = hitting_set_backtracking(jugadores, deseos_prensa)\n",
    "\n",
    "\n",
    "print(\"---- SOLUCION ----\")\n",
    "print(solucion, \" (\", len(solucion), \")\" )\n",
    "print(\"---- ES VALIDA ----\")\n",
    "print(es_hitting_set(solucion,deseos_prensa))"
   ]
  },
  {
   "cell_type": "code",
   "execution_count": null,
   "id": "f71d1f3c-3d02-447d-9886-04317f3e58f2",
   "metadata": {},
   "outputs": [],
   "source": []
  }
 ],
 "metadata": {
  "kernelspec": {
   "display_name": "Python 3 (ipykernel)",
   "language": "python",
   "name": "python3"
  },
  "language_info": {
   "codemirror_mode": {
    "name": "ipython",
    "version": 3
   },
   "file_extension": ".py",
   "mimetype": "text/x-python",
   "name": "python",
   "nbconvert_exporter": "python",
   "pygments_lexer": "ipython3",
   "version": "3.10.1"
  }
 },
 "nbformat": 4,
 "nbformat_minor": 5
}
