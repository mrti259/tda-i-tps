{
 "cells": [
  {
   "cell_type": "markdown",
   "id": "2fcbf592-4248-4c04-8cdb-cf6ca58e09f6",
   "metadata": {},
   "source": [
    "# Backtracking"
   ]
  },
  {
   "cell_type": "code",
   "execution_count": 1,
   "id": "6aad8cb8-e9c0-4c65-bf14-343fd28e5056",
   "metadata": {
    "scrolled": true
   },
   "outputs": [],
   "source": [
    "from time import time\n",
    "\n",
    "from tp3.archivos import leer_archivo\n",
    "\n",
    "class HittingSet():\n",
    "    def __init__(self, deseos_prensa):\n",
    "        self._solucion = None\n",
    "        self._deseos_prensa = deseos_prensa\n",
    "    \n",
    "    def buscar_solucion(self):\n",
    "        self._buscar_solucion(self._deseos_prensa, [], [])\n",
    "        return self._solucion\n",
    "\n",
    "    def _buscar_solucion(self, deseos_prensa, convocados, descartados):\n",
    "        if self._solucion and len(self._solucion) <= len(convocados):\n",
    "            return\n",
    "            \n",
    "        deseos_prensa = _deseos_restantes(deseos_prensa, convocados)\n",
    "        \n",
    "        if len(deseos_prensa) == 0:\n",
    "            self._marcar_mejor_solucion(convocados)\n",
    "            return\n",
    "    \n",
    "        jugador = _jugador_siguiente(deseos_prensa, descartados)\n",
    "    \n",
    "        if jugador == None:\n",
    "            return\n",
    "    \n",
    "        if not _algun_deseo_se_puede_cumplir(deseos_prensa, descartados):\n",
    "            return\n",
    "                \n",
    "        self._buscar_solucion(deseos_prensa, convocados, [*descartados, jugador])\n",
    "        self._buscar_solucion(deseos_prensa, [*convocados, jugador], descartados)\n",
    "\n",
    "\n",
    "    def _marcar_mejor_solucion(self, nueva_solucion):\n",
    "        if not self._solucion or len(nueva_solucion) < len(self._solucion):\n",
    "            self._solucion = nueva_solucion\n",
    "            \n",
    "        return self._solucion\n",
    "\n",
    "def _deseos_restantes(deseos_prensa, convocados):\n",
    "    deseos_restantes = []\n",
    "\n",
    "    for deseo in deseos_prensa:\n",
    "        cumplido = any(filter(lambda jugador: jugador in deseo, convocados))\n",
    "        \n",
    "        if not cumplido:\n",
    "            deseos_restantes.append(deseo)\n",
    "    \n",
    "    return deseos_restantes\n",
    "\n",
    "def _jugador_siguiente(deseos_prensa, descartados):\n",
    "    for deseo in deseos_prensa:\n",
    "        for jugador in deseo:\n",
    "            if jugador in descartados:\n",
    "                continue\n",
    "            return jugador\n",
    "    return None\n",
    "    \n",
    "def _algun_deseo_se_puede_cumplir(deseos_prensa, descartados):\n",
    "    for deseo in deseos_prensa:\n",
    "        if any(filter(lambda jugador: not jugador in descartados, deseo)):\n",
    "            continue\n",
    "        return False\n",
    "    return True\n",
    "\n",
    "def es_hitting_set(deseos_prensa, convocados):\n",
    "    return not any(_deseos_restantes(deseos_prensa, convocados))\n",
    "\n",
    "def hitting_set_backtracking(deseos_prensa):\n",
    "    return HittingSet(deseos_prensa).buscar_solucion()\n",
    "\n",
    "def test(file):\n",
    "    jugadores, deseos_prensa = leer_archivo(file)\n",
    "\n",
    "    start = time()\n",
    "    print(\"Start\")\n",
    "    convocados = hitting_set_backtracking(deseos_prensa)\n",
    "    print(\"End:\", time() - start, \"s.\")\n",
    "    \n",
    "    print(\"---- SOLUCION ----\")\n",
    "    print(convocados, \" (\", len(convocados), \")\" )\n",
    "    print(\"---- ES VALIDA ----\")\n",
    "    print(es_hitting_set(deseos_prensa, convocados))"
   ]
  },
  {
   "cell_type": "code",
   "execution_count": 2,
   "id": "690b8796-c6e1-41d6-9b38-d6b2f4ad333f",
   "metadata": {
    "scrolled": true
   },
   "outputs": [
    {
     "name": "stdout",
     "output_type": "stream",
     "text": [
      "Start\n",
      "End: 0.0 s.\n",
      "---- SOLUCION ----\n",
      "['Casco', 'Messi']  ( 2 )\n",
      "---- ES VALIDA ----\n",
      "True\n"
     ]
    }
   ],
   "source": [
    "test(\"../examples/5.txt\")"
   ]
  },
  {
   "cell_type": "code",
   "execution_count": 3,
   "id": "de5a0cd0-a97e-4ac6-a04c-7d32455f0b40",
   "metadata": {},
   "outputs": [
    {
     "name": "stdout",
     "output_type": "stream",
     "text": [
      "Start\n",
      "End: 0.0 s.\n",
      "---- SOLUCION ----\n",
      "['Colidio', \"Barcon't\"]  ( 2 )\n",
      "---- ES VALIDA ----\n",
      "True\n"
     ]
    }
   ],
   "source": [
    "test(\"../examples/7.txt\")"
   ]
  },
  {
   "cell_type": "code",
   "execution_count": 4,
   "id": "e300d407-93f9-42d9-a1d2-163d536c012a",
   "metadata": {},
   "outputs": [
    {
     "name": "stdout",
     "output_type": "stream",
     "text": [
      "Start\n",
      "End: 0.001001119613647461 s.\n",
      "---- SOLUCION ----\n",
      "['Gallardo', 'Cuti Romero', 'Mauro Zarate']  ( 3 )\n",
      "---- ES VALIDA ----\n",
      "True\n"
     ]
    }
   ],
   "source": [
    "test(\"../examples/10_pocos.txt\")"
   ]
  },
  {
   "cell_type": "code",
   "execution_count": 5,
   "id": "32fb1012-6c7e-46e5-bd8c-dd00b7c582dd",
   "metadata": {},
   "outputs": [
    {
     "name": "stdout",
     "output_type": "stream",
     "text": [
      "Start\n",
      "End: 0.01671886444091797 s.\n",
      "---- SOLUCION ----\n",
      "['Palermo', 'Dibu', 'Beltran', 'Wachoffisde Abila', 'Dybala', 'Changuito Zeballos']  ( 6 )\n",
      "---- ES VALIDA ----\n",
      "True\n"
     ]
    }
   ],
   "source": [
    "test(\"../examples/10_varios.txt\")"
   ]
  },
  {
   "cell_type": "code",
   "execution_count": 6,
   "id": "8ff140b3-433c-404e-b566-727e3029b451",
   "metadata": {},
   "outputs": [
    {
     "name": "stdout",
     "output_type": "stream",
     "text": [
      "Start\n",
      "End: 0.4568498134613037 s.\n",
      "---- SOLUCION ----\n",
      "['Armani', 'Otamendi', 'Tagliafico', 'De Paul', 'Lo Celso', 'Nico GonzÃ¡lez', 'Messi', 'Correa', 'Medina', 'Almada']  ( 10 )\n",
      "---- ES VALIDA ----\n",
      "True\n"
     ]
    }
   ],
   "source": [
    "test(\"../examples/10_todos.txt\")"
   ]
  },
  {
   "cell_type": "code",
   "execution_count": 7,
   "id": "813243a8-6f8e-49a2-9016-8cfdbd313aad",
   "metadata": {},
   "outputs": [
    {
     "name": "stdout",
     "output_type": "stream",
     "text": [
      "Start\n",
      "End: 0.0259854793548584 s.\n",
      "---- SOLUCION ----\n",
      "['Di Maria', 'Wachoffisde Abila', 'Luka Romero', 'Dybala']  ( 4 )\n",
      "---- ES VALIDA ----\n",
      "True\n"
     ]
    }
   ],
   "source": [
    "test(\"../examples/15.txt\")"
   ]
  },
  {
   "cell_type": "code",
   "execution_count": 8,
   "id": "1b884a5e-2d66-49aa-ba16-e5b584d9dc28",
   "metadata": {},
   "outputs": [
    {
     "name": "stdout",
     "output_type": "stream",
     "text": [
      "Start\n",
      "End: 0.04153895378112793 s.\n",
      "---- SOLUCION ----\n",
      "['El fantasma de la B', 'Di Maria', 'Mauro Zarate', 'Casco', 'Tucu Pereyra']  ( 5 )\n",
      "---- ES VALIDA ----\n",
      "True\n"
     ]
    }
   ],
   "source": [
    "test(\"../examples/20.txt\")"
   ]
  },
  {
   "cell_type": "code",
   "execution_count": 9,
   "id": "30a3b8b9-cf5d-4db2-9273-80f240645efc",
   "metadata": {},
   "outputs": [
    {
     "name": "stdout",
     "output_type": "stream",
     "text": [
      "Start\n",
      "End: 0.5837047100067139 s.\n",
      "---- SOLUCION ----\n",
      "['Casco', 'Tucu Pereyra', 'Dybala', 'Armani', \"Barcon't\", 'Langoni']  ( 6 )\n",
      "---- ES VALIDA ----\n",
      "True\n"
     ]
    }
   ],
   "source": [
    "test(\"../examples/50.txt\")"
   ]
  },
  {
   "cell_type": "code",
   "execution_count": 10,
   "id": "62d159b4-5899-4f72-8b1a-b1d204392725",
   "metadata": {},
   "outputs": [
    {
     "name": "stdout",
     "output_type": "stream",
     "text": [
      "Start\n",
      "End: 1.991058349609375 s.\n",
      "---- SOLUCION ----\n",
      "['Burrito Ortega', 'Buendia', 'Ogro Fabianni', 'Soule', 'Messi', 'Beltran', 'Cuti Romero', 'Mauro Zarate']  ( 8 )\n",
      "---- ES VALIDA ----\n",
      "True\n"
     ]
    }
   ],
   "source": [
    "test(\"../examples/75.txt\")"
   ]
  },
  {
   "cell_type": "code",
   "execution_count": 11,
   "id": "8eed4882-ee78-4983-af8f-d4b3641ba8de",
   "metadata": {},
   "outputs": [
    {
     "name": "stdout",
     "output_type": "stream",
     "text": [
      "Start\n",
      "End: 6.6889612674713135 s.\n",
      "---- SOLUCION ----\n",
      "['Mauro Zarate', 'Pezzella', 'Ogro Fabianni', 'Riquelme', 'Zapelli', 'Chiquito Romero', 'Luka Romero', 'Tucu Pereyra', 'Colo Barco']  ( 9 )\n",
      "---- ES VALIDA ----\n",
      "True\n"
     ]
    }
   ],
   "source": [
    "test(\"../examples/100.txt\")"
   ]
  },
  {
   "cell_type": "code",
   "execution_count": 12,
   "id": "9b1e0bb2-4788-455b-90c7-4a0f2aff6038",
   "metadata": {},
   "outputs": [
    {
     "name": "stdout",
     "output_type": "stream",
     "text": [
      "Start\n",
      "End: 31.289299488067627 s.\n",
      "---- SOLUCION ----\n",
      "['El fantasma de la B', \"Barcon't\", 'Dibu', 'Messi', 'Luka Romero', 'Beltran', 'Gallardo', 'Burrito Ortega', 'Pity Martinez']  ( 9 )\n",
      "---- ES VALIDA ----\n",
      "True\n"
     ]
    }
   ],
   "source": [
    "test(\"../examples/200.txt\")"
   ]
  },
  {
   "cell_type": "markdown",
   "id": "09f6e7c8-d395-4dc0-af4a-fa1379caaa1a",
   "metadata": {},
   "source": [
    "# Programacion lineal"
   ]
  },
  {
   "cell_type": "code",
   "execution_count": 13,
   "id": "03f3b806-2d54-4d15-bc36-de3015c91953",
   "metadata": {},
   "outputs": [
    {
     "name": "stdout",
     "output_type": "stream",
     "text": [
      "Requirement already satisfied: pulp in c:\\users\\borja\\appdata\\local\\pypoetry\\cache\\virtualenvs\\tp3-4fsj94ot-py3.11\\lib\\site-packages (2.7.0)\n"
     ]
    },
    {
     "name": "stderr",
     "output_type": "stream",
     "text": [
      "\n",
      "[notice] A new release of pip is available: 23.2.1 -> 23.3.1\n",
      "[notice] To update, run: python.exe -m pip install --upgrade pip\n"
     ]
    }
   ],
   "source": [
    "!pip install pulp"
   ]
  },
  {
   "cell_type": "code",
   "execution_count": 14,
   "id": "44855467-8f56-48de-8df6-21291130c3e8",
   "metadata": {},
   "outputs": [],
   "source": [
    "from pulp import LpMinimize, LpProblem, LpVariable, lpSum\n",
    "\n",
    "def hitting_set_pl(sets):\n",
    "    elements = set.union(*sets)\n",
    "    x = LpVariable.dicts('x', elements, cat='Binary')\n",
    "    hitting_set_problem = LpProblem(\"HittingSetProblem\", LpMinimize)\n",
    "    hitting_set_problem += lpSum(x[element] for element in elements)\n",
    "\n",
    "    for s in sets:\n",
    "        hitting_set_problem += lpSum(x[element] for element in s) >= 1\n",
    "\n",
    "    hitting_set_problem.solve()\n",
    "    hitting_set = [element for element in elements if x[element].value() == 1]\n",
    "    return hitting_set\n",
    "\n",
    "def test(file):\n",
    "    _, deseos_prensa = leer_archivo(file)\n",
    "\n",
    "    sets = [set(l) for l in deseos_prensa]\n",
    "    start = time()\n",
    "    print(\"Start\")\n",
    "    convocados = hitting_set_pl(sets)\n",
    "    print(\"End:\", time() - start, \"s.\")\n",
    "    \n",
    "    print(\"---- SOLUCION ----\")\n",
    "    print(convocados, \" (\", len(convocados), \")\" )\n",
    "    print(\"---- ES VALIDA ----\")\n",
    "    print(es_hitting_set(deseos_prensa, convocados))"
   ]
  },
  {
   "cell_type": "code",
   "execution_count": 15,
   "id": "397bcd97-0dcb-4782-a430-8789378feceb",
   "metadata": {},
   "outputs": [
    {
     "name": "stdout",
     "output_type": "stream",
     "text": [
      "Start\n",
      "End: 0.0189208984375 s.\n",
      "---- SOLUCION ----\n",
      "['Messi', \"Barcon't\"]  ( 2 )\n",
      "---- ES VALIDA ----\n",
      "True\n"
     ]
    }
   ],
   "source": [
    "test(\"../examples/5.txt\")"
   ]
  },
  {
   "cell_type": "code",
   "execution_count": 16,
   "id": "ce32ae48-516a-4d44-bf9d-8804bcaf0577",
   "metadata": {},
   "outputs": [
    {
     "name": "stdout",
     "output_type": "stream",
     "text": [
      "Start\n",
      "End: 0.016585111618041992 s.\n",
      "---- SOLUCION ----\n",
      "['Mauro Zarate', 'Pezzella']  ( 2 )\n",
      "---- ES VALIDA ----\n",
      "True\n"
     ]
    }
   ],
   "source": [
    "test(\"../examples/7.txt\")"
   ]
  },
  {
   "cell_type": "code",
   "execution_count": 17,
   "id": "d85004b1-c502-4b95-ae37-bfb7c5249a66",
   "metadata": {},
   "outputs": [
    {
     "name": "stdout",
     "output_type": "stream",
     "text": [
      "Start\n",
      "End: 0.020482778549194336 s.\n",
      "---- SOLUCION ----\n",
      "['Di Maria', 'Chiquito Romero', 'Casco']  ( 3 )\n",
      "---- ES VALIDA ----\n",
      "True\n"
     ]
    }
   ],
   "source": [
    "test(\"../examples/10_pocos.txt\")"
   ]
  },
  {
   "cell_type": "code",
   "execution_count": 18,
   "id": "5b1d9525-b819-479a-ad2d-ab63d872b02b",
   "metadata": {},
   "outputs": [
    {
     "name": "stdout",
     "output_type": "stream",
     "text": [
      "Start\n",
      "End: 0.020550251007080078 s.\n",
      "---- SOLUCION ----\n",
      "['Palermo', 'Dybala', 'Di Maria', 'Beltran', 'Wachoffisde Abila', 'Dibu']  ( 6 )\n",
      "---- ES VALIDA ----\n",
      "True\n"
     ]
    }
   ],
   "source": [
    "test(\"../examples/10_varios.txt\")"
   ]
  },
  {
   "cell_type": "code",
   "execution_count": 19,
   "id": "06c5f98f-0f42-4903-a341-d7372153f129",
   "metadata": {},
   "outputs": [
    {
     "name": "stdout",
     "output_type": "stream",
     "text": [
      "Start\n",
      "End: 0.020222902297973633 s.\n",
      "---- SOLUCION ----\n",
      "['Paredes', 'Messi', 'Ocampos', 'Pezella', 'Palacios', 'Walter Benitez', 'Rulli', 'Mac Allister', 'Tagliafico', 'Senesi']  ( 10 )\n",
      "---- ES VALIDA ----\n",
      "True\n"
     ]
    }
   ],
   "source": [
    "test(\"../examples/10_todos.txt\")"
   ]
  },
  {
   "cell_type": "code",
   "execution_count": 20,
   "id": "dbd0ebf8-3083-497c-9755-c028e3406af7",
   "metadata": {},
   "outputs": [
    {
     "name": "stdout",
     "output_type": "stream",
     "text": [
      "Start\n",
      "End: 0.030847549438476562 s.\n",
      "---- SOLUCION ----\n",
      "['Dybala', 'Wachoffisde Abila', 'Chiquito Romero', 'Luka Romero']  ( 4 )\n",
      "---- ES VALIDA ----\n",
      "True\n"
     ]
    }
   ],
   "source": [
    "test(\"../examples/15.txt\")"
   ]
  },
  {
   "cell_type": "code",
   "execution_count": 21,
   "id": "3a628ee6-93a7-4df3-85c8-f5f527e4c030",
   "metadata": {},
   "outputs": [
    {
     "name": "stdout",
     "output_type": "stream",
     "text": [
      "Start\n",
      "End: 0.030974864959716797 s.\n",
      "---- SOLUCION ----\n",
      "['Pezzella', 'El fantasma de la B', 'Messi', 'Riquelme', 'Mauro Zarate']  ( 5 )\n",
      "---- ES VALIDA ----\n",
      "True\n"
     ]
    }
   ],
   "source": [
    "test(\"../examples/20.txt\")"
   ]
  },
  {
   "cell_type": "code",
   "execution_count": 22,
   "id": "6e192590-f38e-4763-879c-af90a877adb0",
   "metadata": {},
   "outputs": [
    {
     "name": "stdout",
     "output_type": "stream",
     "text": [
      "Start\n",
      "End: 0.03186440467834473 s.\n",
      "---- SOLUCION ----\n",
      "['Pity Martinez', 'Casco', 'Dybala', 'Palermo', 'Tucu Pereyra', \"Barcon't\"]  ( 6 )\n",
      "---- ES VALIDA ----\n",
      "True\n"
     ]
    }
   ],
   "source": [
    "test(\"../examples/50.txt\")"
   ]
  },
  {
   "cell_type": "code",
   "execution_count": 23,
   "id": "45dda2a3-30d3-4c79-b908-3023404fb7a1",
   "metadata": {},
   "outputs": [
    {
     "name": "stdout",
     "output_type": "stream",
     "text": [
      "Start\n",
      "End: 0.23929119110107422 s.\n",
      "---- SOLUCION ----\n",
      "['Gallardo', 'Burrito Ortega', 'Soule', 'Casco', 'Palermo', 'Messi', 'Colo Barco', 'Buendia']  ( 8 )\n",
      "---- ES VALIDA ----\n",
      "True\n"
     ]
    }
   ],
   "source": [
    "test(\"../examples/75.txt\")"
   ]
  },
  {
   "cell_type": "code",
   "execution_count": 24,
   "id": "ff12dcca-0b0e-4abf-bd02-8cbecc9ca3a2",
   "metadata": {},
   "outputs": [
    {
     "name": "stdout",
     "output_type": "stream",
     "text": [
      "Start\n",
      "End: 0.448336124420166 s.\n",
      "---- SOLUCION ----\n",
      "['Langoni', 'Simeone', 'Ogro Fabianni', 'Dybala', 'Di Maria', 'Palermo', 'Messi', 'Luka Romero', \"Barcon't\"]  ( 9 )\n",
      "---- ES VALIDA ----\n",
      "True\n"
     ]
    }
   ],
   "source": [
    "test(\"../examples/100.txt\")"
   ]
  },
  {
   "cell_type": "code",
   "execution_count": 25,
   "id": "a6f4cc94-8a34-4919-b96c-a7f0793a9886",
   "metadata": {},
   "outputs": [
    {
     "name": "stdout",
     "output_type": "stream",
     "text": [
      "Start\n",
      "End: 0.8641097545623779 s.\n",
      "---- SOLUCION ----\n",
      "['Gallardo', 'Pezzella', 'El fantasma de la B', 'Beltran', 'Armani', 'Chiquito Romero', 'Buonanotte', \"Barcon't\", 'Changuito Zeballos']  ( 9 )\n",
      "---- ES VALIDA ----\n",
      "True\n"
     ]
    }
   ],
   "source": [
    "test(\"../examples/200.txt\")"
   ]
  },
  {
   "cell_type": "markdown",
   "id": "d68eebe5-afe9-4fd0-899a-3052f23c7987",
   "metadata": {},
   "source": [
    "# Greedy"
   ]
  },
  {
   "cell_type": "code",
   "execution_count": 56,
   "id": "0bff101b-1507-4a57-b9d9-e8191c5b102c",
   "metadata": {},
   "outputs": [
    {
     "name": "stdout",
     "output_type": "stream",
     "text": [
      "Start\n",
      "End: 0.0 s.\n",
      "---- SOLUCION ----\n",
      "['Casco', 'Colo Barco']  ( 2 )\n",
      "---- ES VALIDA ----\n",
      "True\n"
     ]
    }
   ],
   "source": [
    "def hitting_set_greedy(deseos_prensa):\n",
    "    convocados = []\n",
    "\n",
    "    while len(deseos_prensa) > 0:\n",
    "        cant_jugadores = {}\n",
    "        max = None\n",
    "        \n",
    "        for deseo in deseos_prensa:\n",
    "            for jugador in deseo:\n",
    "                cant_jugadores[jugador] = cant_jugadores.get(jugador, 0) + 1\n",
    "                if not max or cant_jugadores[jugador] > cant_jugadores[max]:\n",
    "                    max = jugador\n",
    "                    \n",
    "        convocados.append(max)\n",
    "        deseos_prensa = _deseos_restantes(deseos_prensa, convocados)\n",
    "    return convocados\n",
    "\n",
    "\n",
    "def test(file):\n",
    "    _, deseos_prensa = leer_archivo(file)\n",
    "\n",
    "    start = time()\n",
    "    print(\"Start\")\n",
    "    convocados = hitting_set_greedy(deseos_prensa)\n",
    "    print(\"End:\", time() - start, \"s.\")\n",
    "    \n",
    "    print(\"---- SOLUCION ----\")\n",
    "    print(convocados, \" (\", len(convocados), \")\" )\n",
    "    print(\"---- ES VALIDA ----\")\n",
    "    print(es_hitting_set(deseos_prensa, convocados))\n",
    "\n",
    "test(\"../examples/5.txt\")"
   ]
  },
  {
   "cell_type": "code",
   "execution_count": 57,
   "id": "2345ef60-7387-4ed9-99b7-55b86ce05e07",
   "metadata": {},
   "outputs": [
    {
     "name": "stdout",
     "output_type": "stream",
     "text": [
      "Start\n",
      "End: 0.0009965896606445312 s.\n",
      "---- SOLUCION ----\n",
      "[\"Barcon't\", 'Colidio']  ( 2 )\n",
      "---- ES VALIDA ----\n",
      "True\n"
     ]
    }
   ],
   "source": [
    "test(\"../examples/7.txt\")"
   ]
  },
  {
   "cell_type": "code",
   "execution_count": 58,
   "id": "c5fb2641-99c3-482e-bc7d-c53004108838",
   "metadata": {},
   "outputs": [
    {
     "name": "stdout",
     "output_type": "stream",
     "text": [
      "Start\n",
      "End: 0.0 s.\n",
      "---- SOLUCION ----\n",
      "['Di Maria', 'Casco', 'Chiquito Romero']  ( 3 )\n",
      "---- ES VALIDA ----\n",
      "True\n"
     ]
    }
   ],
   "source": [
    "test(\"../examples/10_pocos.txt\")"
   ]
  },
  {
   "cell_type": "code",
   "execution_count": 59,
   "id": "ca676e4d-34ba-4ec1-8648-49abc9358a15",
   "metadata": {},
   "outputs": [
    {
     "name": "stdout",
     "output_type": "stream",
     "text": [
      "Start\n",
      "End: 0.0 s.\n",
      "---- SOLUCION ----\n",
      "['Pity Martinez', 'Dibu', 'Colo Barco', 'Beltran', 'Riquelme', 'Casco', 'Di Maria']  ( 7 )\n",
      "---- ES VALIDA ----\n",
      "True\n"
     ]
    }
   ],
   "source": [
    "test(\"../examples/10_varios.txt\")"
   ]
  },
  {
   "cell_type": "code",
   "execution_count": 60,
   "id": "7492c61e-6f77-42d0-a091-8471e8bad8cc",
   "metadata": {},
   "outputs": [
    {
     "name": "stdout",
     "output_type": "stream",
     "text": [
      "Start\n",
      "End: 0.0 s.\n",
      "---- SOLUCION ----\n",
      "['Dibu', 'Cuti', 'Molina', 'Guido Rodriguez', 'Paredes', 'Palacios', 'Messi', 'Garnacho', 'Lautaro', 'Perrone']  ( 10 )\n",
      "---- ES VALIDA ----\n",
      "True\n"
     ]
    }
   ],
   "source": [
    "test(\"../examples/10_todos.txt\")"
   ]
  },
  {
   "cell_type": "code",
   "execution_count": 61,
   "id": "7e4ce0fd-9bf8-4445-86c9-fdf163f2dce5",
   "metadata": {},
   "outputs": [
    {
     "name": "stdout",
     "output_type": "stream",
     "text": [
      "Start\n",
      "End: 0.0 s.\n",
      "---- SOLUCION ----\n",
      "['Luka Romero', 'Di Maria', 'Colo Barco', 'Dybala', 'Palermo']  ( 5 )\n",
      "---- ES VALIDA ----\n",
      "True\n"
     ]
    }
   ],
   "source": [
    "test(\"../examples/15.txt\")"
   ]
  },
  {
   "cell_type": "code",
   "execution_count": 62,
   "id": "cdb1d1c1-4e97-4649-85e5-8e03d6e3e7fa",
   "metadata": {},
   "outputs": [
    {
     "name": "stdout",
     "output_type": "stream",
     "text": [
      "Start\n",
      "End: 0.0009970664978027344 s.\n",
      "---- SOLUCION ----\n",
      "['Riquelme', 'Mauro Zarate', 'El fantasma de la B', 'Pezzella', 'Buendia']  ( 5 )\n",
      "---- ES VALIDA ----\n",
      "True\n"
     ]
    }
   ],
   "source": [
    "test(\"../examples/20.txt\")"
   ]
  },
  {
   "cell_type": "code",
   "execution_count": 63,
   "id": "4e55d446-e7c7-4725-b829-399bcc563f08",
   "metadata": {},
   "outputs": [
    {
     "name": "stdout",
     "output_type": "stream",
     "text": [
      "Start\n",
      "End: 0.0 s.\n",
      "---- SOLUCION ----\n",
      "['Tucu Pereyra', 'Casco', 'Dibu', \"Barcon't\", 'Langoni', 'Armani', 'Buonanotte']  ( 7 )\n",
      "---- ES VALIDA ----\n",
      "True\n"
     ]
    }
   ],
   "source": [
    "test(\"../examples/50.txt\")"
   ]
  },
  {
   "cell_type": "code",
   "execution_count": 64,
   "id": "0a129f0a-337c-4909-a7e3-2050b4d42bc8",
   "metadata": {},
   "outputs": [
    {
     "name": "stdout",
     "output_type": "stream",
     "text": [
      "Start\n",
      "End: 0.0009992122650146484 s.\n",
      "---- SOLUCION ----\n",
      "['Gallardo', 'Riquelme', 'Palermo', 'Soule', 'Colo Barco', 'Burrito Ortega', 'Casco', 'Messi', 'Buonanotte']  ( 9 )\n",
      "---- ES VALIDA ----\n",
      "True\n"
     ]
    }
   ],
   "source": [
    "test(\"../examples/75.txt\")"
   ]
  },
  {
   "cell_type": "code",
   "execution_count": 65,
   "id": "634a4b51-7834-47dc-8dfe-16954f802eaa",
   "metadata": {},
   "outputs": [
    {
     "name": "stdout",
     "output_type": "stream",
     "text": [
      "Start\n",
      "End: 0.000993967056274414 s.\n",
      "---- SOLUCION ----\n",
      "['Gallardo', 'Langoni', 'Ogro Fabianni', \"Barcon't\", 'El fantasma de la B', 'Messi', 'Soule', 'Palermo', 'Changuito Zeballos', 'Di Maria']  ( 10 )\n",
      "---- ES VALIDA ----\n",
      "True\n"
     ]
    }
   ],
   "source": [
    "test(\"../examples/100.txt\")"
   ]
  },
  {
   "cell_type": "code",
   "execution_count": 66,
   "id": "a6f5af05-6f34-4d43-990f-66cc71ce9a0e",
   "metadata": {},
   "outputs": [
    {
     "name": "stdout",
     "output_type": "stream",
     "text": [
      "Start\n",
      "End: 0.001997709274291992 s.\n",
      "---- SOLUCION ----\n",
      "['Gallardo', 'Beltran', 'Luka Romero', 'Mauro Zarate', 'Tucu Pereyra', 'Pezzella', 'Pity Martinez', 'Messi', 'Dibu', 'Palermo']  ( 10 )\n",
      "---- ES VALIDA ----\n",
      "True\n"
     ]
    }
   ],
   "source": [
    "test(\"../examples/200.txt\")"
   ]
  }
 ],
 "metadata": {
  "kernelspec": {
   "display_name": "Python 3 (ipykernel)",
   "language": "python",
   "name": "python3"
  },
  "language_info": {
   "codemirror_mode": {
    "name": "ipython",
    "version": 3
   },
   "file_extension": ".py",
   "mimetype": "text/x-python",
   "name": "python",
   "nbconvert_exporter": "python",
   "pygments_lexer": "ipython3",
   "version": "3.11.5"
  }
 },
 "nbformat": 4,
 "nbformat_minor": 5
}
