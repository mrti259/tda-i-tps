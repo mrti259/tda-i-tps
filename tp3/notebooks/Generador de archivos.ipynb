{
 "cells": [
  {
   "cell_type": "code",
   "execution_count": 1,
   "id": "c0980e0a-7eaa-460b-a467-b9150c5ceb69",
   "metadata": {},
   "outputs": [],
   "source": [
    "import os\n",
    "import random\n",
    "\n",
    "def escribir_archivo_deseos(deseos, path):\n",
    "    base_path = os.path.dirname(path)\n",
    "    if base_path:\n",
    "        os.makedirs(base_path, exist_ok=True)\n",
    "    with open(path, 'w') as archivo:\n",
    "        for deseo in deseos:\n",
    "            archivo.write(f\"{','.join(deseo)}\\n\")\n",
    "\n",
    "def crear_archivo_de_analisis(path_archivo, cantidad_jugadores, cantidad_deseos, tamanio_min_deseo, tamanio_max_deseo):\n",
    "    deseos = []\n",
    "    jugadores = [f\"Jugador_{jugador}\" for jugador in range(0,cantidad_jugadores)]        \n",
    "    \n",
    "    for _ in range(cantidad_deseos):\n",
    "        jugadores_disponibles = [*jugadores]\n",
    "        tamanio_deseo = random.randint(tamanio_min_deseo,tamanio_max_deseo)\n",
    "        deseo = []\n",
    "        for _ in range(tamanio_deseo):\n",
    "            indice = random.randint(0, len(jugadores_disponibles)-1)\n",
    "            deseo.append(jugadores_disponibles.pop(indice))\n",
    "        deseos.append(deseo)\n",
    "            \n",
    "    escribir_archivo_deseos(deseos, path_archivo)"
   ]
  },
  {
   "cell_type": "code",
   "execution_count": 3,
   "id": "9031bbef-ae41-41aa-a9fe-03edf6b24f20",
   "metadata": {},
   "outputs": [
    {
     "name": "stdout",
     "output_type": "stream",
     "text": [
      "Creando archivo de tamaño 10\n",
      "Creando archivo de tamaño 20\n",
      "Creando archivo de tamaño 30\n",
      "Creando archivo de tamaño 40\n",
      "Creando archivo de tamaño 50\n",
      "Creando archivo de tamaño 60\n",
      "Creando archivo de tamaño 70\n",
      "Creando archivo de tamaño 80\n",
      "Creando archivo de tamaño 90\n",
      "Creando archivo de tamaño 100\n"
     ]
    }
   ],
   "source": [
    "for size in range(10, 110, 10):\n",
    "    print(f\"Creando archivo de tamaño {size}\")\n",
    "    crear_archivo_de_analisis(f\"{size}.txt\", 50, size, 3, 8)"
   ]
  }
 ],
 "metadata": {
  "kernelspec": {
   "display_name": "Python 3 (ipykernel)",
   "language": "python",
   "name": "python3"
  },
  "language_info": {
   "codemirror_mode": {
    "name": "ipython",
    "version": 3
   },
   "file_extension": ".py",
   "mimetype": "text/x-python",
   "name": "python",
   "nbconvert_exporter": "python",
   "pygments_lexer": "ipython3",
   "version": "3.10.1"
  }
 },
 "nbformat": 4,
 "nbformat_minor": 5
}
