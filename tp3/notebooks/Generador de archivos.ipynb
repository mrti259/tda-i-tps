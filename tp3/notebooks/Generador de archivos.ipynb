{
 "cells": [
  {
   "cell_type": "code",
   "execution_count": 2,
   "id": "c0980e0a-7eaa-460b-a467-b9150c5ceb69",
   "metadata": {},
   "outputs": [],
   "source": [
    "import os\n",
    "import random\n",
    "\n",
    "def escribir_archivo_deseos(deseos, path):\n",
    "    base_path = os.path.dirname(path)\n",
    "    if base_path:\n",
    "        os.makedirs(base_path, exist_ok=True)\n",
    "    with open(path, 'w') as archivo:\n",
    "        for deseo in deseos:\n",
    "            archivo.write(f\"{','.join(deseo)}\\n\")\n",
    "\n",
    "def crear_archivo_de_analisis(path_archivo, cantidad_jugadores, cantidad_deseos, tamanio_min_deseo, tamanio_max_deseo):\n",
    "    deseos = []\n",
    "    jugadores = [f\"Jugador_{jugador}\" for jugador in range(0,cantidad_jugadores)]        \n",
    "    \n",
    "    for _ in range(cantidad_deseos):\n",
    "        jugadores_disponibles = [*jugadores]\n",
    "        tamanio_deseo = random.randint(tamanio_min_deseo,tamanio_max_deseo)\n",
    "        deseo = []\n",
    "        for _ in range(tamanio_deseo):\n",
    "            indice = random.randint(0, len(jugadores_disponibles)-1)\n",
    "            deseo.append(jugadores_disponibles.pop(indice))\n",
    "        deseos.append(deseo)\n",
    "            \n",
    "    escribir_archivo_deseos(deseos, path_archivo)"
   ]
  },
  {
   "cell_type": "code",
   "execution_count": 7,
   "id": "9031bbef-ae41-41aa-a9fe-03edf6b24f20",
   "metadata": {},
   "outputs": [
    {
     "name": "stdout",
     "output_type": "stream",
     "text": [
      "Creando archivo de tamaño 10\n",
      "Creando archivo de tamaño 20\n",
      "Creando archivo de tamaño 30\n",
      "Creando archivo de tamaño 40\n",
      "Creando archivo de tamaño 50\n",
      "Creando archivo de tamaño 60\n",
      "Creando archivo de tamaño 70\n",
      "Creando archivo de tamaño 80\n",
      "Creando archivo de tamaño 90\n",
      "Creando archivo de tamaño 100\n",
      "Creando archivo de tamaño 110\n",
      "Creando archivo de tamaño 120\n",
      "Creando archivo de tamaño 130\n",
      "Creando archivo de tamaño 140\n",
      "Creando archivo de tamaño 150\n",
      "Creando archivo de tamaño 160\n",
      "Creando archivo de tamaño 170\n",
      "Creando archivo de tamaño 180\n",
      "Creando archivo de tamaño 190\n",
      "Creando archivo de tamaño 200\n",
      "Creando archivo de tamaño 210\n",
      "Creando archivo de tamaño 220\n",
      "Creando archivo de tamaño 230\n",
      "Creando archivo de tamaño 240\n",
      "Creando archivo de tamaño 250\n",
      "Creando archivo de tamaño 260\n",
      "Creando archivo de tamaño 270\n",
      "Creando archivo de tamaño 280\n",
      "Creando archivo de tamaño 290\n",
      "Creando archivo de tamaño 300\n",
      "Creando archivo de tamaño 310\n",
      "Creando archivo de tamaño 320\n",
      "Creando archivo de tamaño 330\n",
      "Creando archivo de tamaño 340\n",
      "Creando archivo de tamaño 350\n",
      "Creando archivo de tamaño 360\n",
      "Creando archivo de tamaño 370\n",
      "Creando archivo de tamaño 380\n",
      "Creando archivo de tamaño 390\n",
      "Creando archivo de tamaño 400\n",
      "Creando archivo de tamaño 410\n",
      "Creando archivo de tamaño 420\n",
      "Creando archivo de tamaño 430\n",
      "Creando archivo de tamaño 440\n",
      "Creando archivo de tamaño 450\n",
      "Creando archivo de tamaño 460\n",
      "Creando archivo de tamaño 470\n",
      "Creando archivo de tamaño 480\n",
      "Creando archivo de tamaño 490\n",
      "Creando archivo de tamaño 500\n"
     ]
    }
   ],
   "source": [
    "for size in range(10, 510, 10):\n",
    "    print(f\"Creando archivo de tamaño {size}\")\n",
    "    crear_archivo_de_analisis(f\"{size}_bis.txt\", 50, size, 3, random.randint(3,12))"
   ]
  },
  {
   "cell_type": "code",
   "execution_count": 3,
   "id": "6d979293-ca12-44fe-a116-64688a33236a",
   "metadata": {},
   "outputs": [
    {
     "name": "stdout",
     "output_type": "stream",
     "text": [
      "Creando archivo de tamaño 1000\n",
      "Creando archivo de tamaño 2000\n",
      "Creando archivo de tamaño 3000\n",
      "Creando archivo de tamaño 4000\n",
      "Creando archivo de tamaño 5000\n",
      "Creando archivo de tamaño 6000\n",
      "Creando archivo de tamaño 7000\n",
      "Creando archivo de tamaño 8000\n",
      "Creando archivo de tamaño 9000\n",
      "Creando archivo de tamaño 10000\n"
     ]
    }
   ],
   "source": [
    "for size in range(1_000, 11_000, 1000):\n",
    "    print(f\"Creando archivo de tamaño {size}\")\n",
    "    crear_archivo_de_analisis(f\"aprox/{size}.txt\", 1000, size, 10, 20)"
   ]
  },
  {
   "cell_type": "code",
   "execution_count": null,
   "id": "edafa23a-aac2-42f9-b218-146dc4b0bb01",
   "metadata": {},
   "outputs": [],
   "source": []
  }
 ],
 "metadata": {
  "kernelspec": {
   "display_name": "Python 3 (ipykernel)",
   "language": "python",
   "name": "python3"
  },
  "language_info": {
   "codemirror_mode": {
    "name": "ipython",
    "version": 3
   },
   "file_extension": ".py",
   "mimetype": "text/x-python",
   "name": "python",
   "nbconvert_exporter": "python",
   "pygments_lexer": "ipython3",
   "version": "3.10.1"
  }
 },
 "nbformat": 4,
 "nbformat_minor": 5
}
