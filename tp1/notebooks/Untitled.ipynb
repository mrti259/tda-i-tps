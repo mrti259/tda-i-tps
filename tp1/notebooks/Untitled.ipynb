{
 "cells": [
  {
   "cell_type": "code",
   "execution_count": 2,
   "id": "0cb449ea-4dfd-4295-b57d-b9fa44c34d9f",
   "metadata": {},
   "outputs": [
    {
     "name": "stdout",
     "output_type": "stream",
     "text": [
      "../tests/data/10 elem.txt\n",
      "../tests/data/100 elem.txt\n",
      "../tests/data/10000 elem.txt\n",
      "../tests/data/3 elem.txt\n"
     ]
    }
   ],
   "source": [
    "from tp1.leer_archivo import leer_archivo\n",
    "import os\n",
    "\n",
    "folder_path = '../tests/data/'  # Replace with the actual folder path\n",
    "file_list = os.listdir(folder_path)\n",
    "\n",
    "# Print the list of files\n",
    "for file in file_list:\n",
    "    \n",
    "\n"
   ]
  },
  {
   "cell_type": "code",
   "execution_count": null,
   "id": "7327881a-5b7b-44af-8658-2460a2379a9a",
   "metadata": {},
   "outputs": [],
   "source": []
  }
 ],
 "metadata": {
  "kernelspec": {
   "display_name": "Python 3 (ipykernel)",
   "language": "python",
   "name": "python3"
  },
  "language_info": {
   "codemirror_mode": {
    "name": "ipython",
    "version": 3
   },
   "file_extension": ".py",
   "mimetype": "text/x-python",
   "name": "python",
   "nbconvert_exporter": "python",
   "pygments_lexer": "ipython3",
   "version": "3.10.1"
  }
 },
 "nbformat": 4,
 "nbformat_minor": 5
}
