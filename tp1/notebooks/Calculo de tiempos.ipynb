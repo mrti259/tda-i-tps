{
 "cells": [
  {
   "cell_type": "code",
   "execution_count": 14,
   "id": "0cb449ea-4dfd-4295-b57d-b9fa44c34d9f",
   "metadata": {},
   "outputs": [
    {
     "name": "stdout",
     "output_type": "stream",
     "text": [
      "Trabajando con archivo: 10 elem.txt\n",
      "N=10 T=0.00\n",
      "Trabajando con archivo: 100 elem.txt\n",
      "N=100 T=0.00\n",
      "Trabajando con archivo: 10000 elem.txt\n",
      "N=10000 T=2.50\n",
      "Trabajando con archivo: 3 elem.txt\n",
      "N=3 T=0.00\n",
      "[('10', '0.00'), ('100', '0.00'), ('10000', '2.50'), ('3', '0.00')]\n"
     ]
    }
   ],
   "source": [
    "from tp1.leer_archivo import leer_archivo\n",
    "from tp1.tiempo_optimo import tiempo_optimo\n",
    "import os\n",
    "import time\n",
    "\n",
    "directorio = '../tests/data/'  \n",
    "archivos = os.listdir(directorio)\n",
    "resultado = []\n",
    "\n",
    "for archivo in archivos:\n",
    "    print(\"Trabajando con archivo: \" + archivo)\n",
    "    tiempos_analisis = leer_archivo(directorio + archivo)\n",
    "    \n",
    "    tiempo_inicio = time.time()\n",
    "    tiempo_optimo(tiempos_analisis)\n",
    "    tiempo_fin = time.time()\n",
    "    \n",
    "    tiempo_ejecucion = (tiempo_fin - tiempo_inicio) * 1000\n",
    "    print(\"N=\" + str(len(tiempos_analisis)) + \" T=\" + f\"{tiempo_ejecucion:.2f}\")\n",
    "    resultado.append((str(len(tiempos_analisis)), f\"{tiempo_ejecucion:.2f}\"))\n",
    "\n",
    "print(resultado)\n"
   ]
  },
  {
   "cell_type": "code",
   "execution_count": null,
   "id": "7327881a-5b7b-44af-8658-2460a2379a9a",
   "metadata": {},
   "outputs": [],
   "source": []
  }
 ],
 "metadata": {
  "kernelspec": {
   "display_name": "Python 3 (ipykernel)",
   "language": "python",
   "name": "python3"
  },
  "language_info": {
   "codemirror_mode": {
    "name": "ipython",
    "version": 3
   },
   "file_extension": ".py",
   "mimetype": "text/x-python",
   "name": "python",
   "nbconvert_exporter": "python",
   "pygments_lexer": "ipython3",
   "version": "3.10.1"
  }
 },
 "nbformat": 4,
 "nbformat_minor": 5
}
