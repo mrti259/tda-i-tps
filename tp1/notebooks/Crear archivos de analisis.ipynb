{
 "cells": [
  {
   "cell_type": "code",
   "execution_count": 1,
   "metadata": {},
   "outputs": [],
   "source": [
    "import random\n",
    "\n",
    "def generar_tiempo_analisis():\n",
    "    return (random.randint(1, 1000000), random.randint(1, 1000000))\n",
    "\n",
    "def crear_archivo_de_analisis(path_archivo, cantidad_contricantes):\n",
    "    with open(path_archivo, 'w') as archivo:\n",
    "        archivo.write(\"S_i,A_i\\n\")\n",
    "\n",
    "        for _ in range(cantidad_contricantes):\n",
    "            tiempo_analisis = generar_tiempo_analisis()\n",
    "            archivo.write(f\"{tiempo_analisis[0]},{tiempo_analisis[1]}\\n\")"
   ]
  },
  {
   "cell_type": "code",
   "execution_count": 2,
   "metadata": {},
   "outputs": [
    {
     "name": "stdout",
     "output_type": "stream",
     "text": [
      "Se creo el archivo 10000 elementos.txt.\n",
      "Se creo el archivo 20000 elementos.txt.\n",
      "Se creo el archivo 30000 elementos.txt.\n",
      "Se creo el archivo 40000 elementos.txt.\n",
      "Se creo el archivo 50000 elementos.txt.\n",
      "Se creo el archivo 60000 elementos.txt.\n",
      "Se creo el archivo 70000 elementos.txt.\n",
      "Se creo el archivo 80000 elementos.txt.\n",
      "Se creo el archivo 90000 elementos.txt.\n",
      "Se creo el archivo 100000 elementos.txt.\n",
      "Se creo el archivo 110000 elementos.txt.\n",
      "Se creo el archivo 120000 elementos.txt.\n",
      "Se creo el archivo 130000 elementos.txt.\n",
      "Se creo el archivo 140000 elementos.txt.\n",
      "Se creo el archivo 150000 elementos.txt.\n",
      "Se creo el archivo 160000 elementos.txt.\n",
      "Se creo el archivo 170000 elementos.txt.\n",
      "Se creo el archivo 180000 elementos.txt.\n",
      "Se creo el archivo 190000 elementos.txt.\n",
      "Se creo el archivo 200000 elementos.txt.\n",
      "Se creo el archivo 210000 elementos.txt.\n",
      "Se creo el archivo 220000 elementos.txt.\n",
      "Se creo el archivo 230000 elementos.txt.\n",
      "Se creo el archivo 240000 elementos.txt.\n",
      "Se creo el archivo 250000 elementos.txt.\n",
      "Se creo el archivo 260000 elementos.txt.\n",
      "Se creo el archivo 270000 elementos.txt.\n",
      "Se creo el archivo 280000 elementos.txt.\n",
      "Se creo el archivo 290000 elementos.txt.\n",
      "Se creo el archivo 300000 elementos.txt.\n",
      "Se creo el archivo 310000 elementos.txt.\n",
      "Se creo el archivo 320000 elementos.txt.\n",
      "Se creo el archivo 330000 elementos.txt.\n",
      "Se creo el archivo 340000 elementos.txt.\n",
      "Se creo el archivo 350000 elementos.txt.\n",
      "Se creo el archivo 360000 elementos.txt.\n",
      "Se creo el archivo 370000 elementos.txt.\n",
      "Se creo el archivo 380000 elementos.txt.\n",
      "Se creo el archivo 390000 elementos.txt.\n",
      "Se creo el archivo 400000 elementos.txt.\n",
      "Se creo el archivo 410000 elementos.txt.\n",
      "Se creo el archivo 420000 elementos.txt.\n",
      "Se creo el archivo 430000 elementos.txt.\n",
      "Se creo el archivo 440000 elementos.txt.\n",
      "Se creo el archivo 450000 elementos.txt.\n",
      "Se creo el archivo 460000 elementos.txt.\n",
      "Se creo el archivo 470000 elementos.txt.\n",
      "Se creo el archivo 480000 elementos.txt.\n",
      "Se creo el archivo 490000 elementos.txt.\n",
      "Se creo el archivo 500000 elementos.txt.\n"
     ]
    }
   ],
   "source": [
    "cantidad_contricantes = 10000\n",
    "cant_archivos = 50\n",
    "incremento_contricantes_por_archivo = 10000\n",
    "\n",
    "for _ in range(cant_archivos):\n",
    "    crear_archivo_de_analisis(f\"data/{cantidad_contricantes} elementos.txt\", cantidad_contricantes)\n",
    "    print(f\"Se creo el archivo {cantidad_contricantes} elementos.txt.\")\n",
    "    cantidad_contricantes += incremento_contricantes_por_archivo"
   ]
  }
 ],
 "metadata": {
  "kernelspec": {
   "display_name": "Python 3 (ipykernel)",
   "language": "python",
   "name": "python3"
  },
  "language_info": {
   "codemirror_mode": {
    "name": "ipython",
    "version": 3
   },
   "file_extension": ".py",
   "mimetype": "text/x-python",
   "name": "python",
   "nbconvert_exporter": "python",
   "pygments_lexer": "ipython3",
   "version": "3.11.5"
  }
 },
 "nbformat": 4,
 "nbformat_minor": 4
}
