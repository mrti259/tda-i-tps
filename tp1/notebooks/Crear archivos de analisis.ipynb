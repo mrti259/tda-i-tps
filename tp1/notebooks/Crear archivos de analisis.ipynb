{
 "cells": [
  {
   "cell_type": "code",
   "execution_count": 1,
   "metadata": {},
   "outputs": [],
   "source": [
    "import random\n",
    "from tp1.manejo_archivos_analisis import escribir_archivo_analisis\n",
    "\n",
    "def generar_tiempo_analisis():\n",
    "    return (random.randint(1, 1000000), random.randint(1, 1000000))\n",
    "\n",
    "def crear_archivo_de_analisis(path_archivo, cantidad_contricantes):\n",
    "    tiempos_analisis = []\n",
    "    for _ in range(cantidad_contricantes):\n",
    "        tiempos_analisis.append(generar_tiempo_analisis())\n",
    "    escribir_archivo_analisis(tiempos_analisis, path_archivo)\n",
    "\n",
    "    "
   ]
  },
  {
   "cell_type": "code",
   "execution_count": 2,
   "metadata": {},
   "outputs": [
    {
     "name": "stdout",
     "output_type": "stream",
     "text": [
      "Se creo el archivo 8000 elementos.txt.\n",
      "Se creo el archivo 16000 elementos.txt.\n",
      "Se creo el archivo 24000 elementos.txt.\n",
      "Se creo el archivo 32000 elementos.txt.\n",
      "Se creo el archivo 40000 elementos.txt.\n",
      "Se creo el archivo 48000 elementos.txt.\n",
      "Se creo el archivo 56000 elementos.txt.\n",
      "Se creo el archivo 64000 elementos.txt.\n",
      "Se creo el archivo 72000 elementos.txt.\n",
      "Se creo el archivo 80000 elementos.txt.\n",
      "Se creo el archivo 88000 elementos.txt.\n",
      "Se creo el archivo 96000 elementos.txt.\n",
      "Se creo el archivo 104000 elementos.txt.\n",
      "Se creo el archivo 112000 elementos.txt.\n",
      "Se creo el archivo 120000 elementos.txt.\n",
      "Se creo el archivo 128000 elementos.txt.\n",
      "Se creo el archivo 136000 elementos.txt.\n",
      "Se creo el archivo 144000 elementos.txt.\n",
      "Se creo el archivo 152000 elementos.txt.\n",
      "Se creo el archivo 160000 elementos.txt.\n",
      "Se creo el archivo 168000 elementos.txt.\n",
      "Se creo el archivo 176000 elementos.txt.\n",
      "Se creo el archivo 184000 elementos.txt.\n",
      "Se creo el archivo 192000 elementos.txt.\n",
      "Se creo el archivo 200000 elementos.txt.\n",
      "Se creo el archivo 208000 elementos.txt.\n",
      "Se creo el archivo 216000 elementos.txt.\n",
      "Se creo el archivo 224000 elementos.txt.\n",
      "Se creo el archivo 232000 elementos.txt.\n",
      "Se creo el archivo 240000 elementos.txt.\n",
      "Se creo el archivo 248000 elementos.txt.\n",
      "Se creo el archivo 256000 elementos.txt.\n",
      "Se creo el archivo 264000 elementos.txt.\n",
      "Se creo el archivo 272000 elementos.txt.\n",
      "Se creo el archivo 280000 elementos.txt.\n",
      "Se creo el archivo 288000 elementos.txt.\n",
      "Se creo el archivo 296000 elementos.txt.\n",
      "Se creo el archivo 304000 elementos.txt.\n",
      "Se creo el archivo 312000 elementos.txt.\n",
      "Se creo el archivo 320000 elementos.txt.\n",
      "Se creo el archivo 328000 elementos.txt.\n",
      "Se creo el archivo 336000 elementos.txt.\n",
      "Se creo el archivo 344000 elementos.txt.\n",
      "Se creo el archivo 352000 elementos.txt.\n",
      "Se creo el archivo 360000 elementos.txt.\n",
      "Se creo el archivo 368000 elementos.txt.\n",
      "Se creo el archivo 376000 elementos.txt.\n",
      "Se creo el archivo 384000 elementos.txt.\n",
      "Se creo el archivo 392000 elementos.txt.\n",
      "Se creo el archivo 400000 elementos.txt.\n"
     ]
    }
   ],
   "source": [
    "cantidad_contricantes = 8000\n",
    "cant_archivos = 50\n",
    "incremento_contricantes_por_archivo = 8000\n",
    "\n",
    "for _ in range(cant_archivos):\n",
    "    crear_archivo_de_analisis(f\"data/{cantidad_contricantes} elementos.txt\", cantidad_contricantes)\n",
    "    print(f\"Se creo el archivo {cantidad_contricantes} elementos.txt.\")\n",
    "    cantidad_contricantes += incremento_contricantes_por_archivo"
   ]
  },
  {
   "cell_type": "code",
   "execution_count": null,
   "metadata": {},
   "outputs": [],
   "source": []
  },
  {
   "cell_type": "code",
   "execution_count": null,
   "metadata": {},
   "outputs": [],
   "source": []
  }
 ],
 "metadata": {
  "kernelspec": {
   "display_name": "Python 3 (ipykernel)",
   "language": "python",
   "name": "python3"
  },
  "language_info": {
   "codemirror_mode": {
    "name": "ipython",
    "version": 3
   },
   "file_extension": ".py",
   "mimetype": "text/x-python",
   "name": "python",
   "nbconvert_exporter": "python",
   "pygments_lexer": "ipython3",
   "version": "3.10.1"
  }
 },
 "nbformat": 4,
 "nbformat_minor": 4
}
