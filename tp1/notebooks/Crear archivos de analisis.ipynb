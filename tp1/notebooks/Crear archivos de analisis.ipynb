{
 "cells": [
  {
   "cell_type": "code",
   "execution_count": null,
   "metadata": {},
   "outputs": [],
   "source": [
    "import random\n",
    "\n",
    "def generar_tiempo_analisis():\n",
    "    return (random.randint(1, 1000000), random.randint(1, 1000000))\n",
    "\n",
    "def crear_archivo_de_analisis(path_archivo, cantidad_contricantes):\n",
    "    with open(path_archivo, 'w') as archivo:\n",
    "        archivo.write(\"S_i,A_i\\n\")\n",
    "\n",
    "        for _ in range(cantidad_contricantes):\n",
    "            tiempo_analisis = generar_tiempo_analisis()\n",
    "            archivo.write(f\"{tiempo_analisis[0]},{tiempo_analisis[1]}\\n\")"
   ]
  },
  {
   "cell_type": "code",
   "execution_count": null,
   "metadata": {},
   "outputs": [],
   "source": [
    "cantidad_contricantes = 10000\n",
    "cant_archivos = 50\n",
    "incremento_contricantes_por_archivo = 10000\n",
    "\n",
    "for _ in range(cant_archivos):\n",
    "    crear_archivo_de_analisis(f\"tests/data/{cantidad_contricantes} elementos.txt\", cantidad_contricantes)\n",
    "    print(f\"Se creo el archivo {cantidad_contricantes} elementos.txt.\")\n",
    "    cantidad_contricantes += incremento_contricantes_por_archivo"
   ]
  }
 ],
 "metadata": {
  "language_info": {
   "name": "python"
  },
  "orig_nbformat": 4
 },
 "nbformat": 4,
 "nbformat_minor": 2
}
