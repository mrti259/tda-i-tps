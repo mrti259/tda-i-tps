{
 "cells": [
  {
   "cell_type": "code",
   "execution_count": 1,
   "metadata": {
    "colab": {
     "base_uri": "https://localhost:8080/"
    },
    "executionInfo": {
     "elapsed": 1555,
     "status": "ok",
     "timestamp": 1694134512336,
     "user": {
      "displayName": "Borja Garibotti",
      "userId": "16567978820345495348"
     },
     "user_tz": 180
    },
    "id": "1YqNTa-clGF6",
    "outputId": "ce48e748-d8e3-46ef-95e4-2825c58ab85b"
   },
   "outputs": [
    {
     "name": "stdout",
     "output_type": "stream",
     "text": [
      "../data/3 elem.txt\n",
      "   S_i  A_i  Ts_i  T_i\n",
      "2    1    8     1    9\n",
      "0    3    3     4    7\n",
      "1    5    1     9   10\n",
      "Tiempo optimo: 10\n",
      "\n",
      "../data/10 elem.txt\n",
      "   S_i  A_i  Ts_i  T_i\n",
      "7    2    4    16   20\n",
      "0    1    3    17   20\n",
      "3    4    3    21   24\n",
      "6    2    2    23   25\n",
      "1    5    1    28   29\n",
      "Tiempo optimo: 29\n",
      "\n",
      "../data/100 elem.txt\n",
      "    S_i  A_i  Ts_i   T_i\n",
      "36   41   14  4987  5001\n",
      "72   76   14  5063  5077\n",
      "3    72   13  5135  5148\n",
      "18   33   12  5168  5180\n",
      "15   45   10  5213  5223\n",
      "Tiempo optimo: 5223\n",
      "\n",
      "../data/10000 elem.txt\n",
      "        S_i  A_i       Ts_i        T_i\n",
      "2442  93965  149  497712321  497712470\n",
      "3930  69102  145  497781423  497781568\n",
      "8514  53172  142  497834595  497834737\n",
      "1275  48826  131  497883421  497883552\n",
      "6231   3196  118  497886617  497886735\n",
      "Tiempo optimo: 497886735\n",
      "\n"
     ]
    }
   ],
   "source": [
    "import pandas as pd\n",
    "from typing import List\n",
    "\n",
    "def leer_archivo(path):\n",
    "    return pd.read_csv(path)\n",
    "\n",
    "def procesar_datos(datos):\n",
    "    #Se ordenan los datos por los tiempos que tarda el ayudante en analizar al rival, de mayor a menor\n",
    "    datos = datos.sort_values(\"A_i\", ascending=False) # TODO: mergesort O(n log n)\n",
    "    \n",
    "    #Se calcula el tiempo que tarda Scaloni en empezar a analizar al rival hasta que termina\n",
    "    datos[\"Ts_i\"] = datos[\"S_i\"].cumsum() # O(n)\n",
    "    \n",
    "    #Se calcula cuanto tiempo se tardo desde el inicio a que se termino de analizar al rival\n",
    "    datos[\"T_i\"] = datos[\"Ts_i\"] + datos[\"A_i\"] # O(n)\n",
    "    \n",
    "    #Se obtiene el tiempo maximo\n",
    "    tiempo_optimo = datos[\"T_i\"].max() # O(n)\n",
    "    \n",
    "    #Debug\n",
    "    print(datos.tail())\n",
    "    \n",
    "    return tiempo_optimo\n",
    "\n",
    "def procesar_archivo(path):\n",
    "    print(path)\n",
    "    datos = leer_archivo(path)\n",
    "    resultado = procesar_datos(datos)\n",
    "    print(\"Tiempo optimo:\", resultado)\n",
    "    print()\n",
    "\n",
    "procesar_archivo(\"../data/3 elem.txt\")\n",
    "procesar_archivo(\"../data/10 elem.txt\")\n",
    "procesar_archivo(\"../data/100 elem.txt\")\n",
    "procesar_archivo(\"../data/10000 elem.txt\")"
   ]
  },
  {
   "cell_type": "code",
   "execution_count": null,
   "metadata": {},
   "outputs": [],
   "source": [
    "# Ordenamiento\n",
    "\n",
    "Para ordenar vamos a usar mergesort"
   ]
  },
  {
   "cell_type": "code",
   "execution_count": 2,
   "metadata": {
    "colab": {
     "base_uri": "https://localhost:8080/"
    },
    "executionInfo": {
     "elapsed": 326,
     "status": "ok",
     "timestamp": 1694134137858,
     "user": {
      "displayName": "Borja Garibotti",
      "userId": "16567978820345495348"
     },
     "user_tz": 180
    },
    "id": "yIZM0Y6WDslO",
    "outputId": "eeecc456-e6a9-4432-b6aa-9491f906aaeb"
   },
   "outputs": [
    {
     "name": "stdout",
     "output_type": "stream",
     "text": [
      "[5, 6, 7, 8, 9]\n",
      "[1, 2, 3, 5, 7, 9]\n",
      "[1, 2, 3, 4, 5, 7, 8]\n"
     ]
    }
   ],
   "source": [
    "def mergesort(arr, cmp):\n",
    "  if len(arr) < 2:\n",
    "    return arr\n",
    "\n",
    "  m = len(arr) // 2\n",
    "  L = mergesort(arr[:m], cmp)\n",
    "  R = mergesort(arr[m:], cmp)\n",
    "\n",
    "  x = y = z = 0\n",
    "  while x < len(L) and y < len(R):\n",
    "    if cmp(L[x], R[y]) <= 0:\n",
    "      arr[z] = L[x]\n",
    "      x += 1\n",
    "    else:\n",
    "      arr[z] = R[y]\n",
    "      y += 1\n",
    "    z += 1\n",
    "\n",
    "  while x < len(L):\n",
    "    arr[z] = L[x]\n",
    "    x += 1\n",
    "    z += 1\n",
    "\n",
    "  while y < len(R):\n",
    "    arr[z] = R[y]\n",
    "    y += 1\n",
    "    z += 1\n",
    "\n",
    "  return arr\n",
    "\n",
    "def _cmp(a,b):\n",
    "    return a-b\n",
    "\n",
    "def _cmp_tiempos(a, b):\n",
    "    return a[1]-b[1]\n",
    "\n",
    "print(mergesort([9,8,7,6,5], _cmp))\n",
    "print(mergesort([9,2,7,3,5,1], _cmp))\n",
    "print(mergesort([4,2,1,3,5,7,8], _cmp))"
   ]
  }
 ],
 "metadata": {
  "colab": {
   "authorship_tag": "ABX9TyN46hIpRIYajW9TVVLnoFpf",
   "mount_file_id": "164Gejht6a2c8nqVyY4Mc6eEBoxNJxgFl",
   "provenance": []
  },
  "kernelspec": {
   "display_name": "Python 3 (ipykernel)",
   "language": "python",
   "name": "python3"
  },
  "language_info": {
   "codemirror_mode": {
    "name": "ipython",
    "version": 3
   },
   "file_extension": ".py",
   "mimetype": "text/x-python",
   "name": "python",
   "nbconvert_exporter": "python",
   "pygments_lexer": "ipython3",
   "version": "3.11.5"
  }
 },
 "nbformat": 4,
 "nbformat_minor": 4
}
